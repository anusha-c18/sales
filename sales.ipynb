{
  "metadata": {
    "kernelspec": {
      "language": "python",
      "display_name": "Python 3",
      "name": "python3"
    },
    "language_info": {
      "pygments_lexer": "ipython3",
      "nbconvert_exporter": "python",
      "version": "3.6.4",
      "file_extension": ".py",
      "codemirror_mode": {
        "name": "ipython",
        "version": 3
      },
      "name": "python",
      "mimetype": "text/x-python"
    },
    "colab": {
      "name": "sales.ipynb",
      "provenance": []
    }
  },
  "nbformat_minor": 0,
  "nbformat": 4,
  "cells": [
    {
      "cell_type": "code",
      "source": [
        "import pandas as pd"
      ],
      "metadata": {
        "id": "4YmE8-RiBW5y",
        "trusted": true
      },
      "execution_count": null,
      "outputs": []
    },
    {
      "cell_type": "code",
      "source": [
        "# Reading csv file from github repo\n",
        "advertising = pd.read_csv('../input/tvmarketingcsv/tvmarketing.csv')"
      ],
      "metadata": {
        "id": "LIadm3t6BW5z",
        "trusted": true
      },
      "execution_count": null,
      "outputs": []
    },
    {
      "cell_type": "markdown",
      "source": [
        "Now, let's check the structure of the advertising dataset."
      ],
      "metadata": {
        "id": "9ZFSxwHPBW5z"
      }
    },
    {
      "cell_type": "code",
      "source": [
        "# Display the first 5 rows\n",
        "advertising.head()"
      ],
      "metadata": {
        "id": "pzkseQTcBW5z",
        "trusted": true
      },
      "execution_count": null,
      "outputs": []
    },
    {
      "cell_type": "code",
      "source": [
        "# Display the last 5 rows\n",
        "advertising.tail()"
      ],
      "metadata": {
        "id": "pbmsRO2YBW50",
        "trusted": true
      },
      "execution_count": null,
      "outputs": []
    },
    {
      "cell_type": "code",
      "source": [
        "# Let's check the columns\n",
        "advertising.info()"
      ],
      "metadata": {
        "id": "HQDqzhdKBW51",
        "trusted": true
      },
      "execution_count": null,
      "outputs": []
    },
    {
      "cell_type": "code",
      "source": [
        "# Check the shape of the DataFrame (rows, columns)\n",
        "advertising.shape"
      ],
      "metadata": {
        "id": "1fOGVz61BW51",
        "trusted": true
      },
      "execution_count": null,
      "outputs": []
    },
    {
      "cell_type": "code",
      "source": [
        "# Let's look at some statistical information about the dataframe.\n",
        "advertising.describe()"
      ],
      "metadata": {
        "id": "VO4GoVyfBW51",
        "trusted": true
      },
      "execution_count": null,
      "outputs": []
    },
    {
      "cell_type": "markdown",
      "source": [
        "# Visualising Data Using Plot"
      ],
      "metadata": {
        "id": "4tkuFialBW52"
      }
    },
    {
      "cell_type": "code",
      "source": [
        "# Visualise the relationship between the features and the response using scatterplots\n",
        "advertising.plot(x='TV',y='Sales',kind='scatter')"
      ],
      "metadata": {
        "id": "3mEiKmvYCk8S",
        "trusted": true
      },
      "execution_count": null,
      "outputs": []
    },
    {
      "cell_type": "markdown",
      "source": [
        "# Perfroming Simple Linear Regression"
      ],
      "metadata": {
        "id": "54eMqRWoBW52"
      }
    },
    {
      "cell_type": "markdown",
      "source": [
        "Equation of linear regression<br>\n",
        "$y = c + m_1x_1 + m_2x_2 + ... + m_nx_n$\n",
        "\n",
        "-  $y$ is the response\n",
        "-  $c$ is the intercept\n",
        "-  $m_1$ is the coefficient for the first feature\n",
        "-  $m_n$ is the coefficient for the nth feature<br>\n",
        "\n",
        "In our case:\n",
        "\n",
        "$y = c + m_1 \\times TV$\n",
        "\n",
        "The $m$ values are called the model **coefficients** or **model parameters**."
      ],
      "metadata": {
        "id": "R8O25fC6BW52"
      }
    },
    {
      "cell_type": "markdown",
      "source": [
        "### Generic Steps in Model Building using ```sklearn```\n",
        "\n",
        "Before you read further, it is good to understand the generic structure of modeling using the scikit-learn library. Broadly, the steps to build any model can be divided as follows: "
      ],
      "metadata": {
        "id": "SdKPVlotBW52"
      }
    },
    {
      "cell_type": "markdown",
      "source": [
        "## Preparing X and y\n",
        "\n",
        "-  The scikit-learn library expects X (feature variable) and y (response variable) to be NumPy arrays.\n",
        "-  However, X can be a dataframe as Pandas is built over NumPy."
      ],
      "metadata": {
        "id": "GaxpcxRABW52"
      }
    },
    {
      "cell_type": "code",
      "source": [
        "# Putting feature variable to X\n",
        "X = advertising['TV']\n",
        "\n",
        "# Print the first 5 rows\n",
        "X.head()"
      ],
      "metadata": {
        "id": "0ySJx_RkBW52",
        "trusted": true
      },
      "execution_count": null,
      "outputs": []
    },
    {
      "cell_type": "code",
      "source": [
        "# Putting response variable to y\n",
        "y = advertising['Sales']\n",
        "\n",
        "# Print the first 5 rows\n",
        "y.head()"
      ],
      "metadata": {
        "id": "RA6LC8R4BW52",
        "trusted": true
      },
      "execution_count": null,
      "outputs": []
    },
    {
      "cell_type": "markdown",
      "source": [
        "## Splitting Data into Training and Testing Sets"
      ],
      "metadata": {
        "id": "fRshsy8OBW52"
      }
    },
    {
      "cell_type": "code",
      "source": [
        "#random_state is the seed used by the random number generator, it can be any integer.\n",
        "\n",
        "from sklearn.model_selection import train_test_split\n",
        "X_train, X_test, y_train, y_test = train_test_split(X, y, train_size=0.7 , random_state=0000)"
      ],
      "metadata": {
        "id": "OD84Ss_hBW52",
        "trusted": true
      },
      "execution_count": null,
      "outputs": []
    },
    {
      "cell_type": "code",
      "source": [
        "print(type(X_train))\n",
        "print(type(X_test))\n",
        "print(type(y_train))\n",
        "print(type(y_test))"
      ],
      "metadata": {
        "id": "rP9gRuF-BW52",
        "trusted": true
      },
      "execution_count": null,
      "outputs": []
    },
    {
      "cell_type": "code",
      "source": [
        "train_test_split      \n",
        "#Press Tab+Shift to read the documentation"
      ],
      "metadata": {
        "id": "iaNZaViTBW52",
        "trusted": true
      },
      "execution_count": null,
      "outputs": []
    },
    {
      "cell_type": "code",
      "source": [
        "print(X_train.shape)\n",
        "print(y_train.shape)\n",
        "print(X_test.shape)\n",
        "print(y_test.shape)"
      ],
      "metadata": {
        "id": "XGx3CCXlBW52",
        "trusted": true
      },
      "execution_count": null,
      "outputs": []
    },
    {
      "cell_type": "code",
      "source": [
        "#It is a general convention in scikit-learn that observations are rows, while features are columns. \n",
        "#This is needed only when you are using a single feature; in this case, 'TV'.\n",
        "\n",
        "import numpy as np\n",
        "#Simply put, numpy.newaxis is used to increase the dimension of the existing array by one more dimension,\n",
        "X_train = X_train[:, np.newaxis]\n",
        "X_test = X_test[:, np.newaxis]"
      ],
      "metadata": {
        "id": "SVKR9nQHBW52",
        "trusted": true
      },
      "execution_count": null,
      "outputs": []
    },
    {
      "cell_type": "code",
      "source": [
        "print(X_train.shape)\n",
        "print(y_train.shape)\n",
        "print(X_test.shape)\n",
        "print(y_test.shape)"
      ],
      "metadata": {
        "id": "P84R5ARrBW52",
        "trusted": true
      },
      "execution_count": null,
      "outputs": []
    },
    {
      "cell_type": "markdown",
      "source": [
        "## Performing Linear Regression"
      ],
      "metadata": {
        "id": "EdeY_F9xBW52"
      }
    },
    {
      "cell_type": "code",
      "source": [
        "# import LinearRegression from sklearn\n",
        "from sklearn.linear_model import LinearRegression\n",
        "\n",
        "# Representing LinearRegression as lr(Creating LinearRegression Object)\n",
        "lr = LinearRegression()\n",
        "\n",
        "# Fit the model using lr.fit()\n",
        "lr.fit(X_train, y_train)"
      ],
      "metadata": {
        "id": "qL6yPFpABW52",
        "trusted": true
      },
      "execution_count": null,
      "outputs": []
    },
    {
      "cell_type": "markdown",
      "source": [
        "## Coefficients Calculation"
      ],
      "metadata": {
        "id": "ZhChGqJ2BW52"
      }
    },
    {
      "cell_type": "code",
      "source": [
        "# Print the intercept and coefficients\n",
        "print(lr.intercept_)\n",
        "print(lr.coef_)"
      ],
      "metadata": {
        "scrolled": true,
        "id": "527h4jGWBW52",
        "trusted": true
      },
      "execution_count": null,
      "outputs": []
    },
    {
      "cell_type": "markdown",
      "source": [
        "$y = 6.989 + 0.0464 \\times TV $<br>\n",
        "\n",
        "Now, let's use this equation to predict our sales."
      ],
      "metadata": {
        "id": "Hm_44AKFBW53"
      }
    },
    {
      "cell_type": "markdown",
      "source": [
        "## Predictions"
      ],
      "metadata": {
        "id": "8t8Av_XXBW53"
      }
    },
    {
      "cell_type": "code",
      "source": [
        "# Making predictions on the testing set\n",
        "y_pred = lr.predict(X_test)"
      ],
      "metadata": {
        "id": "wJqlolZtBW53",
        "trusted": true
      },
      "execution_count": null,
      "outputs": []
    },
    {
      "cell_type": "code",
      "source": [
        "type(y_pred)"
      ],
      "metadata": {
        "id": "4u4Cz-xqBW53",
        "trusted": true
      },
      "execution_count": null,
      "outputs": []
    },
    {
      "cell_type": "markdown",
      "source": [
        "#### Computing RMSE and R^2 Values\n",
        "RMSE is the standard deviation of the errors which occur when a prediction is made on a dataset. This is the same as MSE (Mean Squared Error) but the root of the value is considered while determining the accuracy of the model\n"
      ],
      "metadata": {
        "id": "42DUHkQzBW53"
      }
    },
    {
      "cell_type": "code",
      "source": [
        "y_test.shape # cheek the shape to generate the index for plot"
      ],
      "metadata": {
        "id": "yRt2E6pIK9h1",
        "trusted": true
      },
      "execution_count": null,
      "outputs": []
    },
    {
      "cell_type": "code",
      "source": [
        "# Actual vs Predicted\n",
        "import matplotlib.pyplot as plt\n",
        "c = [i for i in range(1,61,1)]         # generating index \n",
        "fig = plt.figure()\n",
        "plt.plot(c,y_test, color=\"blue\", linewidth=2, linestyle=\"-\")\n",
        "plt.plot(c,y_pred, color=\"red\",  linewidth=2, linestyle=\"-\")\n",
        "fig.suptitle('Actual and Predicted', fontsize=20)              # Plot heading \n",
        "plt.xlabel('Index', fontsize=18)                               # X-label\n",
        "plt.ylabel('Sales', fontsize=16)                       # Y-label"
      ],
      "metadata": {
        "id": "beUEVjg3Jb_h",
        "trusted": true
      },
      "execution_count": null,
      "outputs": []
    },
    {
      "cell_type": "code",
      "source": [
        "# Error terms\n",
        "c = [i for i in range(1,61,1)]\n",
        "fig = plt.figure()\n",
        "plt.plot(c,y_test-y_pred, color=\"blue\", linewidth=2, linestyle=\"-\")\n",
        "fig.suptitle('Error Terms', fontsize=20)              # Plot heading \n",
        "plt.xlabel('Index', fontsize=18)                      # X-label\n",
        "plt.ylabel('ytest-ypred', fontsize=16)                # Y-label"
      ],
      "metadata": {
        "id": "fHp6JU41BW53",
        "trusted": true
      },
      "execution_count": null,
      "outputs": []
    },
    {
      "cell_type": "code",
      "source": [
        "from sklearn.metrics import mean_squared_error, r2_score\n",
        "mse = mean_squared_error(y_test, y_pred)"
      ],
      "metadata": {
        "id": "rJKwrhrABW53",
        "trusted": true
      },
      "execution_count": null,
      "outputs": []
    },
    {
      "cell_type": "code",
      "source": [
        "r_squared = r2_score(y_test, y_pred)"
      ],
      "metadata": {
        "id": "v6OraM7mBW53",
        "trusted": true
      },
      "execution_count": null,
      "outputs": []
    },
    {
      "cell_type": "code",
      "source": [
        "print('Mean_Squared_Error :' ,mse)\n",
        "print('r_square_value :',r_squared)"
      ],
      "metadata": {
        "id": "osv85GbBBW53",
        "trusted": true
      },
      "execution_count": null,
      "outputs": []
    },
    {
      "cell_type": "code",
      "source": [
        "# this mse =7.9 means that this model is not able to match the 7.9 percent of the values\n",
        "# r2 means that your model is 72% is accurate on test data ."
      ],
      "metadata": {
        "id": "cvBH_rcAQFSv",
        "trusted": true
      },
      "execution_count": null,
      "outputs": []
    },
    {
      "cell_type": "code",
      "source": [
        "import matplotlib.pyplot as plt\n",
        "plt.scatter(y_test,y_pred,c='blue')\n",
        "plt.xlabel('Y Test')\n",
        "plt.ylabel('Predicted Y')\n",
        "plt.grid()\n"
      ],
      "metadata": {
        "id": "P1-nZjpyBW53",
        "trusted": true
      },
      "execution_count": null,
      "outputs": []
    }
  ]
}